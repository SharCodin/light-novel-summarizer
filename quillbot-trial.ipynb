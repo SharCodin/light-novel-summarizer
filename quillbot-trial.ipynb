{
 "cells": [
  {
   "cell_type": "code",
   "execution_count": 1,
   "metadata": {},
   "outputs": [],
   "source": [
    "import json\n",
    "import os\n",
    "import re\n",
    "from time import sleep"
   ]
  },
  {
   "cell_type": "code",
   "execution_count": 2,
   "metadata": {},
   "outputs": [],
   "source": [
    "from selenium import webdriver\n",
    "from selenium.webdriver.chrome.service import Service as ChromeService\n",
    "from webdriver_manager.chrome import ChromeDriverManager\n",
    "from selenium.webdriver.common.by import By\n",
    "from selenium.webdriver.common.action_chains import ActionChains\n",
    "from selenium.webdriver.common.keys import Keys"
   ]
  },
  {
   "cell_type": "code",
   "execution_count": 3,
   "metadata": {},
   "outputs": [
    {
     "name": "stdout",
     "output_type": "stream",
     "text": [
      "\n"
     ]
    }
   ],
   "source": [
    "driver = webdriver.Chrome(service=ChromeService(ChromeDriverManager().install()))\n",
    "driver.get('https://quillbot.com/login?returnUrl=/summarize')"
   ]
  },
  {
   "cell_type": "code",
   "execution_count": 10,
   "metadata": {},
   "outputs": [],
   "source": [
    "def login(email, password) -> None:\n",
    "    email_field = driver.find_element(By.XPATH, '//*[@id=\"loginContainer\"]/div/div[4]/div/div/input')\n",
    "    password_field = driver.find_element(By.XPATH, '//*[@id=\"loginContainer\"]/div/div[5]/div/div/input')\n",
    "\n",
    "    email_field.send_keys(email)\n",
    "    sleep(1)\n",
    "    password_field.send_keys(password)\n",
    "    ActionChains(driver).key_down(Keys.ENTER).key_up(Keys.ENTER).perform()"
   ]
  },
  {
   "cell_type": "code",
   "execution_count": 11,
   "metadata": {},
   "outputs": [],
   "source": [
    "import SECRETS\n",
    "login(SECRETS.EMAIL, SECRETS.PASSWORD)"
   ]
  },
  {
   "cell_type": "code",
   "execution_count": 12,
   "metadata": {},
   "outputs": [],
   "source": [
    "FOLDER_PATH: str = 'C:\\\\Users\\\\Sharvin\\\\Downloads\\\\Documents\\\\Light Novels\\\\__Ongoing\\\\Rascal Does Not Dream Series\\\\Rascal Does Not Dream Series - Volume 07 [Yen Press][Kobo] (1)'"
   ]
  },
  {
   "cell_type": "code",
   "execution_count": 13,
   "metadata": {},
   "outputs": [],
   "source": [
    "def make_chunks(text: str) -> list[list[str]]:\n",
    "    \"\"\"Split the text into 1,200 words chunks.\"\"\"\n",
    "    counter: int = 0\n",
    "    chunk_length: int = 1200\n",
    "    chunks: list[list[str]] = []\n",
    "    sentences: list[str] = []\n",
    "    for sentence in text.split('\\n'):\n",
    "        if len(sentence.split()) + counter < chunk_length:\n",
    "            sentences.append(sentence)\n",
    "            counter: int = counter + len(sentence.split())\n",
    "        else:\n",
    "            chunks.append(sentences[:])\n",
    "            counter: int = 0\n",
    "            sentences.clear()\n",
    "            sentences.append(sentence)\n",
    "            counter: int = counter + len(sentence.split())\n",
    "    chunks.append(sentences[:])\n",
    "    return chunks"
   ]
  },
  {
   "cell_type": "code",
   "execution_count": 14,
   "metadata": {},
   "outputs": [],
   "source": [
    "def get_summary(text) -> str:\n",
    "    textbox = driver.find_element(By.ID, 'inputBoxSummarizer')\n",
    "    textbox.clear()\n",
    "    sleep(1)\n",
    "    textbox.send_keys(text)\n",
    "    sleep(10)\n",
    "    ActionChains(driver).key_down(Keys.CONTROL).key_down(Keys.ENTER).key_up(Keys.CONTROL).key_up(Keys.ENTER).perform()\n",
    "    sleep(10)\n",
    "    summary = driver.find_element(By.ID, 'outputBoxSummarizer')\n",
    "    return summary.text"
   ]
  },
  {
   "cell_type": "code",
   "execution_count": 15,
   "metadata": {},
   "outputs": [],
   "source": [
    "def save_to_file(text: str, file: str):\n",
    "    file_part: str = 'summary' + ' - ' + file.title()\n",
    "    SUMMARY: str = os.path.join(FOLDER_PATH, 'summary')\n",
    "    file_summary: str = os.path.join(SUMMARY, file_part)\n",
    "    if not os.path.exists(SUMMARY):\n",
    "        os.mkdir(os.path.join(SUMMARY))\n",
    "    with open(file_summary, 'a', encoding='utf-8') as f:\n",
    "        f.write(text)\n",
    "        f.write('\\n\\n')"
   ]
  },
  {
   "cell_type": "code",
   "execution_count": 16,
   "metadata": {},
   "outputs": [
    {
     "name": "stdout",
     "output_type": "stream",
     "text": [
      "02 - Epigraph.txt\n",
      "1/1\n",
      "03 - Chapter 1 A Gray and Desolate Landscape.txt\n",
      "1/11\n",
      "2/11\n",
      "3/11\n",
      "4/11\n",
      "5/11\n"
     ]
    }
   ],
   "source": [
    "for file in os.listdir(FOLDER_PATH):\n",
    "    file_path: str = os.path.join(FOLDER_PATH, file)\n",
    "    if not os.path.isfile(file_path):\n",
    "        continue\n",
    "    print(file)\n",
    "    with open(file_path, 'r', encoding='utf-8') as f:\n",
    "        text: str  = f.read()\n",
    "        text: str = re.sub(r'\\n{2,50}', '\\n', text).strip()\n",
    "        text: str = re.sub(r'(?<=\\S)\\?(?=\\S)', ', ', text).strip()\n",
    "        text: str = text.replace('—', ', ').strip()\n",
    "        parts: list[list[str]] = make_chunks(text)\n",
    "        for idx, part in enumerate(parts):\n",
    "            print(f'{idx + 1}/{len(parts)}')\n",
    "            text: str = '\\n'.join(part)\n",
    "            summary_text: str = get_summary(text)\n",
    "            save_to_file(summary_text, file)\n",
    "driver.quit()"
   ]
  },
  {
   "cell_type": "code",
   "execution_count": null,
   "metadata": {},
   "outputs": [],
   "source": [
    "print('COMPLETED')"
   ]
  }
 ],
 "metadata": {
  "kernelspec": {
   "display_name": "Python 3.10.4 64-bit",
   "language": "python",
   "name": "python3"
  },
  "language_info": {
   "codemirror_mode": {
    "name": "ipython",
    "version": 3
   },
   "file_extension": ".py",
   "mimetype": "text/x-python",
   "name": "python",
   "nbconvert_exporter": "python",
   "pygments_lexer": "ipython3",
   "version": "3.10.4"
  },
  "orig_nbformat": 4,
  "vscode": {
   "interpreter": {
    "hash": "a3161426e598de3fdda51fdf6ea673138b983bec39c366827ad9261b322af9fc"
   }
  }
 },
 "nbformat": 4,
 "nbformat_minor": 2
}
