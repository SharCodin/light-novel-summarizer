{
 "cells": [
  {
   "cell_type": "code",
   "execution_count": null,
   "metadata": {},
   "outputs": [],
   "source": [
    "import os\n",
    "import re\n",
    "from time import sleep"
   ]
  },
  {
   "cell_type": "code",
   "execution_count": null,
   "metadata": {},
   "outputs": [],
   "source": [
    "from selenium import webdriver\n",
    "from selenium.webdriver.chrome.service import Service as ChromeService\n",
    "from webdriver_manager.chrome import ChromeDriverManager\n",
    "from selenium.webdriver.common.by import By\n",
    "from selenium.webdriver.common.action_chains import ActionChains\n",
    "from selenium.webdriver.common.keys import Keys"
   ]
  },
  {
   "cell_type": "code",
   "execution_count": null,
   "metadata": {},
   "outputs": [],
   "source": [
    "driver = webdriver.Chrome(service=ChromeService(ChromeDriverManager().install()))\n",
    "driver.get('https://quillbot.com/summarize')"
   ]
  },
  {
   "cell_type": "code",
   "execution_count": null,
   "metadata": {},
   "outputs": [],
   "source": [
    "FOLDER_PATH: str = 'C:\\\\Users\\\\Sharvin\\\\Downloads\\\\_Unsorted\\\\__To_Check\\\\DanMachi - Volume 13 [Yen Press][Kobo] (1)'"
   ]
  },
  {
   "cell_type": "code",
   "execution_count": null,
   "metadata": {},
   "outputs": [],
   "source": [
    "def make_chunks(text: str) -> list[list[str]]:\n",
    "    \"\"\"Split the text into 600 words chunks.\"\"\"\n",
    "    counter: int = 0\n",
    "    chunks: list[list[str]] = []\n",
    "    sentences: list[str] = []\n",
    "    for sentence in text.split('\\n'):\n",
    "        if len(sentence.split()) + counter < 600:\n",
    "            sentences.append(sentence)\n",
    "            counter: int = counter + len(sentence.split())\n",
    "        else:\n",
    "            chunks.append(sentences[:])\n",
    "            counter: int = 0\n",
    "            sentences.clear()\n",
    "            sentences.append(sentence)\n",
    "            counter: int = counter + len(sentence.split())\n",
    "    chunks.append(sentences[:])\n",
    "    return chunks"
   ]
  },
  {
   "cell_type": "code",
   "execution_count": null,
   "metadata": {},
   "outputs": [],
   "source": [
    "def get_summary(text) -> str:\n",
    "    textbox = driver.find_element(By.ID, 'inputBoxSummarizer')\n",
    "    textbox.clear()\n",
    "    sleep(1)\n",
    "    textbox.send_keys(text)\n",
    "    sleep(9)\n",
    "    ActionChains(driver).key_down(Keys.CONTROL).key_down(Keys.ENTER).key_up(Keys.CONTROL).key_up(Keys.ENTER).perform()\n",
    "    sleep(6)\n",
    "    summary = driver.find_element(By.ID, 'outputBoxSummarizer')\n",
    "    return summary.text"
   ]
  },
  {
   "cell_type": "code",
   "execution_count": null,
   "metadata": {},
   "outputs": [],
   "source": [
    "def save_to_file(text: str, file: str):\n",
    "    file_part: str = 'summary' + ' - ' + file.title()\n",
    "    SUMMARY: str = os.path.join(FOLDER_PATH, 'summary')\n",
    "    file_summary: str = os.path.join(SUMMARY, file_part)\n",
    "    if not os.path.exists(SUMMARY):\n",
    "        os.mkdir(os.path.join(SUMMARY))\n",
    "    with open(file_summary, 'a') as f:\n",
    "        f.write(text)\n",
    "        f.write('\\n\\n')"
   ]
  },
  {
   "cell_type": "code",
   "execution_count": null,
   "metadata": {},
   "outputs": [],
   "source": [
    "for file in os.listdir(FOLDER_PATH):\n",
    "    file_path: str = os.path.join(FOLDER_PATH, file)\n",
    "    if not os.path.isfile(file_path):\n",
    "        continue\n",
    "    print(file)\n",
    "    with open(file_path, 'r') as f:\n",
    "        text: str  = f.read()\n",
    "        text: str = re.sub(r'\\n{2,50}', '\\n', text).strip()\n",
    "        text: str = re.sub(r'(?<=\\S)\\?(?=\\S)', ', ', text).strip()\n",
    "        parts: list[list[str]] = make_chunks(text)\n",
    "        for idx, part in enumerate(parts):\n",
    "            print(f'{idx + 1}/{len(parts)}')\n",
    "            text: str = '\\n'.join(part)\n",
    "            summary_text: str = get_summary(text)\n",
    "            save_to_file(summary_text, file)\n",
    "driver.quit()"
   ]
  },
  {
   "cell_type": "code",
   "execution_count": null,
   "metadata": {},
   "outputs": [],
   "source": [
    "print('COMPLETED')"
   ]
  }
 ],
 "metadata": {
  "kernelspec": {
   "display_name": "Python 3.10.4 64-bit",
   "language": "python",
   "name": "python3"
  },
  "language_info": {
   "codemirror_mode": {
    "name": "ipython",
    "version": 3
   },
   "file_extension": ".py",
   "mimetype": "text/x-python",
   "name": "python",
   "nbconvert_exporter": "python",
   "pygments_lexer": "ipython3",
   "version": "3.10.4"
  },
  "orig_nbformat": 4,
  "vscode": {
   "interpreter": {
    "hash": "a3161426e598de3fdda51fdf6ea673138b983bec39c366827ad9261b322af9fc"
   }
  }
 },
 "nbformat": 4,
 "nbformat_minor": 2
}
