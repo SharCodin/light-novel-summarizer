{
 "cells": [
  {
   "cell_type": "code",
   "execution_count": null,
   "metadata": {},
   "outputs": [],
   "source": [
    "import sys\n",
    "%pip install spacy\n",
    "!{sys.executable} -m spacy download en_core_web_sm"
   ]
  },
  {
   "cell_type": "code",
   "execution_count": null,
   "metadata": {},
   "outputs": [],
   "source": [
    "import spacy\n",
    "from spacy.lang.en.stop_words import STOP_WORDS\n",
    "from string import punctuation\n",
    "import string\n",
    "from spacy.lang.en.stop_words import STOP_WORDS\n",
    "from spacy.lang.en import English\n",
    "from heapq import nlargest\n",
    "punctuations = string.punctuation\n",
    "from spacy.language import Language\n",
    "nlp = English()\n",
    "nlp.add_pipe('sentencizer') # updated\n",
    "parser = English()"
   ]
  },
  {
   "cell_type": "code",
   "execution_count": null,
   "metadata": {},
   "outputs": [],
   "source": [
    "text = \"\"\"A three-faction alliance was formed among Hestia, Miach, and Takemikazuchi Familias. Nahza, Ouka, their fellow familia members, and their patron deities all consented willingly. Only Hephaistos Familia decided to stay on the sidelines in order to preserve their position as a metalsmith familia. They would set out on the expedition in ten days. Aisha had asked Bell and the others if they would take Antianeira with them on an expedition.\n",
    "\n",
    "Like Haruhime, she had been on numerous expeditions before, and her addition to the party would greatly increase the power at their disposal. But now, since the party is so strong, they've ended up aiming for the lower levels of the Dungeon instead of tackling the middle levels. Daphne drew a dagger that resembled a conductor's baton from the sword belt at her waist and swung it through the air. Good leadership can still really save a party. They say adventurers live or die depending on who's in the rear guard.\n",
    "\n",
    "That's how Finn Deimne pushed his way to the top, I hear. Lilly felt like she was seeing something inside herself for the first time. An image of Braver commanding the very best adventurers down in the Dungeon, layered on top of that, an image of herself doing the same.\"\"\""
   ]
  },
  {
   "cell_type": "code",
   "execution_count": null,
   "metadata": {},
   "outputs": [],
   "source": [
    "def summarize(text, per):\n",
    "    nlp = spacy.load('en_core_web_sm')\n",
    "    doc= nlp(text)\n",
    "    tokens=[token.text for token in doc]\n",
    "    word_frequencies={}\n",
    "    for word in doc:\n",
    "        if word.text.lower() not in list(STOP_WORDS):\n",
    "            if word.text.lower() not in punctuation:\n",
    "                if word.text not in word_frequencies.keys():\n",
    "                    word_frequencies[word.text] = 1\n",
    "                else:\n",
    "                    word_frequencies[word.text] += 1\n",
    "    max_frequency=max(word_frequencies.values())\n",
    "    for word in word_frequencies.keys():\n",
    "        word_frequencies[word]=word_frequencies[word]/max_frequency\n",
    "    sentence_tokens= [sent for sent in doc.sents]\n",
    "    sentence_scores = {}\n",
    "    for sent in sentence_tokens:\n",
    "        for word in sent:\n",
    "            if word.text.lower() in word_frequencies.keys():\n",
    "                if sent not in sentence_scores.keys():                            \n",
    "                    sentence_scores[sent]=word_frequencies[word.text.lower()]\n",
    "                else:\n",
    "                    sentence_scores[sent]+=word_frequencies[word.text.lower()]\n",
    "    select_length=int(len(sentence_tokens)*per)\n",
    "    summary=nlargest(select_length, sentence_scores,key=sentence_scores.get)\n",
    "    # final_summary=[word.text for word in summary]\n",
    "    # summary=''.join(final_summary)\n",
    "    return summary"
   ]
  },
  {
   "cell_type": "code",
   "execution_count": null,
   "metadata": {},
   "outputs": [],
   "source": [
    "summarize(text, 0.01)"
   ]
  },
  {
   "cell_type": "code",
   "execution_count": null,
   "metadata": {},
   "outputs": [],
   "source": []
  }
 ],
 "metadata": {
  "kernelspec": {
   "display_name": "Python 3.10.4 64-bit",
   "language": "python",
   "name": "python3"
  },
  "language_info": {
   "codemirror_mode": {
    "name": "ipython",
    "version": 3
   },
   "file_extension": ".py",
   "mimetype": "text/x-python",
   "name": "python",
   "nbconvert_exporter": "python",
   "pygments_lexer": "ipython3",
   "version": "3.10.4"
  },
  "orig_nbformat": 4,
  "vscode": {
   "interpreter": {
    "hash": "a3161426e598de3fdda51fdf6ea673138b983bec39c366827ad9261b322af9fc"
   }
  }
 },
 "nbformat": 4,
 "nbformat_minor": 2
}
